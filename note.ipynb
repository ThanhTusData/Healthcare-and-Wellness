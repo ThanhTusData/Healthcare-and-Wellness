{
 "cells": [
  {
   "cell_type": "raw",
   "id": "16bb979c-d2b7-4248-aa74-e7732f63fd2c",
   "metadata": {},
   "source": [
    "drug_name: Tên thuốc, không phải tên thương mại, mà là tên thuốc phổ thông.\n",
    "\n",
    "medical_condition: Tình trạng bệnh mà thuốc này được sử dụng để điều trị.\n",
    "\n",
    "side_effects: Các tác dụng phụ mà người dùng có thể gặp phải khi sử dụng thuốc này.\n",
    "\n",
    "generic_name: Tên hóa học của thuốc, không phải tên thương mại (brand name).\n",
    "\n",
    "drug_classes: Nhóm thuốc mà thuốc này thuộc về. Đây là những nhóm thuốc có cấu trúc hóa học tương tự, cơ chế tác động giống nhau hoặc điều trị các bệnh tương tự.\n",
    "\n",
    "brand_names: Tên thương mại của thuốc mà thuốc này được bán trên thị trường.\n",
    "\n",
    "activity: Mức độ hoạt động của thuốc dựa trên hoạt động của người dùng trên trang web thuốc. Thông tin này phản ánh mức độ phổ biến và sự quan tâm của người dùng đối với thuốc này.\n",
    "\n",
    "rx_otc: Tình trạng của thuốc về mặt pháp lý, liệu thuốc này có cần đơn thuốc (Rx) hay có thể mua mà không cần đơn thuốc (OTC - Over-the-counter).\n",
    "\n",
    "pregnancy_category: Phân loại thuốc dựa trên mức độ an toàn của nó đối với thai nhi:\n",
    "\n",
    "A: An toàn trong suốt thai kỳ.\n",
    "B: Không có rủi ro trong thử nghiệm trên động vật, nhưng chưa có đủ nghiên cứu trên phụ nữ mang thai.\n",
    "C: Có thể có tác dụng phụ đối với thai nhi, nhưng có thể dùng nếu lợi ích vượt trội hơn nguy cơ.\n",
    "D: Có bằng chứng về rủi ro với thai nhi, nhưng có thể dùng nếu lợi ích vượt trội hơn nguy cơ.\n",
    "X: Cấm dùng trong thai kỳ do có bằng chứng rõ ràng về nguy cơ gây hại cho thai nhi.\n",
    "csa: Phân loại theo Đạo luật Chất gây nghiện (Controlled Substances Act):\n",
    "\n",
    "M: Thuốc có nhiều phân loại.\n",
    "U: Phân loại không rõ ràng.\n",
    "N: Không bị quản lý theo Đạo luật Chất gây nghiện.\n",
    "1-5: Các mức độ nghiêm trọng của thuốc về khả năng gây nghiện và các giới hạn trong sử dụng thuốc.\n",
    "alcohol: Thông tin về việc thuốc có tương tác với rượu hay không (X: có tương tác).\n",
    "\n",
    "related_drugs: Các thuốc liên quan có thể có tác dụng giống hoặc tương tự với thuốc này.\n",
    "\n",
    "medical_condition_description: Mô tả chi tiết về tình trạng bệnh mà thuốc này điều trị.\n",
    "\n",
    "rating: Đánh giá của người dùng về hiệu quả của thuốc. Thang điểm từ 1 (không hiệu quả) đến 10 (hiệu quả nhất).\n",
    "\n",
    "no_of_reviews: Số lượng đánh giá được đưa ra về thuốc này.\n",
    "\n",
    "drug_link: Liên kết đến trang web thuốc chi tiết về thuốc này.\n",
    "\n",
    "medical_condition_url: Liên kết đến trang web mô tả tình trạng bệnh mà thuốc này điều trị."
   ]
  }
 ],
 "metadata": {
  "kernelspec": {
   "display_name": "Python 3 (ipykernel)",
   "language": "python",
   "name": "python3"
  },
  "language_info": {
   "codemirror_mode": {
    "name": "ipython",
    "version": 3
   },
   "file_extension": ".py",
   "mimetype": "text/x-python",
   "name": "python",
   "nbconvert_exporter": "python",
   "pygments_lexer": "ipython3",
   "version": "3.12.4"
  }
 },
 "nbformat": 4,
 "nbformat_minor": 5
}
