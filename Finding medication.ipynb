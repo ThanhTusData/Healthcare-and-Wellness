{
 "cells": [
  {
   "cell_type": "markdown",
   "id": "d79ed255-b89d-44e5-b677-944d53927091",
   "metadata": {},
   "source": [
    "# Import necessary libraries and read data"
   ]
  },
  {
   "cell_type": "code",
   "execution_count": 28,
   "id": "d187afb7-80cd-4628-8a72-b0459a6ae768",
   "metadata": {},
   "outputs": [
    {
     "name": "stdout",
     "output_type": "stream",
     "text": [
      "<class 'pandas.core.frame.DataFrame'>\n",
      "RangeIndex: 2931 entries, 0 to 2930\n",
      "Data columns (total 13 columns):\n",
      " #   Column                         Non-Null Count  Dtype  \n",
      "---  ------                         --------------  -----  \n",
      " 0   drug_name                      2931 non-null   object \n",
      " 1   medical_condition              2931 non-null   object \n",
      " 2   side_effects                   2931 non-null   object \n",
      " 3   generic_name                   2931 non-null   object \n",
      " 4   drug_classes                   2931 non-null   object \n",
      " 5   brand_names                    2931 non-null   object \n",
      " 6   activity                       2931 non-null   object \n",
      " 7   rx_otc                         2931 non-null   object \n",
      " 8   pregnancy_category             2931 non-null   object \n",
      " 9   csa                            2931 non-null   object \n",
      " 10  alcohol                        2931 non-null   object \n",
      " 11  medical_condition_description  2931 non-null   object \n",
      " 12  rating                         2931 non-null   float64\n",
      "dtypes: float64(1), object(12)\n",
      "memory usage: 297.8+ KB\n"
     ]
    }
   ],
   "source": [
    "import pandas as pd\n",
    "from sklearn.feature_extraction.text import TfidfVectorizer\n",
    "from sklearn.metrics.pairwise import cosine_similarity\n",
    "import warnings\n",
    "warnings.filterwarnings('ignore')\n",
    "df=pd.read_csv('clean.csv')\n",
    "df.info()"
   ]
  },
  {
   "cell_type": "markdown",
   "id": "36a049b4-c6f4-4954-979a-880b3134e7db",
   "metadata": {},
   "source": [
    "# Build a drug recommendation system"
   ]
  },
  {
   "cell_type": "code",
   "execution_count": 41,
   "id": "43194aba-9665-4833-8cb2-cbab9e7824d1",
   "metadata": {},
   "outputs": [
    {
     "name": "stdout",
     "output_type": "stream",
     "text": [
      "=== Hệ thống gợi ý thuốc ===\n",
      "Nhập triệu chứng hoặc cụm từ bạn muốn tìm kiếm.\n",
      "Ví dụ: 'headache', 'fever', 'skin rash'.\n"
     ]
    },
    {
     "name": "stdin",
     "output_type": "stream",
     "text": [
      "\n",
      "Nhập triệu chứng của bạn (hoặc gõ 'exit' để thoát):  Stay out of the sun\n",
      "Nhập số lượng gợi ý tối đa (mặc định: 5):  3\n"
     ]
    },
    {
     "name": "stdout",
     "output_type": "stream",
     "text": [
      "\n",
      "Những thuốc có thể giúp điều trị triệu chứng 'Stay out of the sun' là:\n",
      "1. Thuốc: doxycycline\n",
      "   Mô tả triệu chứng: acne other names: acne vulgaris; blackheads; breakouts; cystic acne; pimples; whiteheads; zits acne is a skin condition caused by dead...\n",
      "   Độ tương đồng: 0.03\n",
      "\n",
      "2. Thuốc: spironolactone\n",
      "   Mô tả triệu chứng: acne other names: acne vulgaris; blackheads; breakouts; cystic acne; pimples; whiteheads; zits acne is a skin condition caused by dead...\n",
      "   Độ tương đồng: 0.03\n",
      "\n",
      "3. Thuốc: minocycline\n",
      "   Mô tả triệu chứng: acne other names: acne vulgaris; blackheads; breakouts; cystic acne; pimples; whiteheads; zits acne is a skin condition caused by dead...\n",
      "   Độ tương đồng: 0.03\n",
      "\n"
     ]
    },
    {
     "name": "stdin",
     "output_type": "stream",
     "text": [
      "\n",
      "Nhập triệu chứng của bạn (hoặc gõ 'exit' để thoát):  exit\n"
     ]
    },
    {
     "name": "stdout",
     "output_type": "stream",
     "text": [
      "\n",
      "Cảm ơn bạn đã sử dụng hệ thống!\n"
     ]
    }
   ],
   "source": [
    "# 1. Preprocess data: Replace NaN in 'medical_condition_description' with an empty string and normalize to lowercase\n",
    "df['medical_condition_description'] = df['medical_condition_description'].fillna('').str.lower()\n",
    "\n",
    "# 2. Vectorize the text data using TF-IDF\n",
    "vectorizer = TfidfVectorizer(stop_words='english')\n",
    "tfidf_matrix = vectorizer.fit_transform(df['medical_condition_description'])\n",
    "\n",
    "# 3. Function to summarize descriptions\n",
    "def summarize_description(description, max_words=20):\n",
    "    \"\"\"\n",
    "    Summarize the medical condition description by truncating it to a maximum number of words.\n",
    "    :param description: Full description of the medical condition.\n",
    "    :param max_words: Maximum number of words to retain in the summary.\n",
    "    :return: Truncated description.\n",
    "    \"\"\"\n",
    "    words = description.split()\n",
    "    if len(words) > max_words:\n",
    "        return ' '.join(words[:max_words]) + '...'\n",
    "    return description\n",
    "\n",
    "# 4. Function to search for drugs based on symptoms\n",
    "def get_drug_recommendations(symptom, df, tfidf_matrix, top_n=5):\n",
    "    \"\"\"\n",
    "    Search for drugs based on symptoms.\n",
    "    :param symptom: User input symptom description.\n",
    "    :param df: DataFrame containing drug data.\n",
    "    :param tfidf_matrix: TF-IDF matrix for the 'medical_condition_description' column.\n",
    "    :param top_n: Maximum number of recommendations to return.\n",
    "    :return: List of recommendations.\n",
    "    \"\"\"\n",
    "    # Normalize user input to lowercase\n",
    "    symptom = symptom.lower()\n",
    "    \n",
    "    # Vectorize the user input symptom\n",
    "    symptom_tfidf = vectorizer.transform([symptom])\n",
    "    \n",
    "    # Calculate cosine similarity between user input and descriptions in the dataset\n",
    "    cosine_sim = cosine_similarity(symptom_tfidf, tfidf_matrix)\n",
    "    \n",
    "    # Get indices of the highest similarity scores\n",
    "    sim_scores = list(enumerate(cosine_sim[0]))\n",
    "    \n",
    "    # Sort by similarity score in descending order\n",
    "    sim_scores = sorted(sim_scores, key=lambda x: x[1], reverse=True)\n",
    "    \n",
    "    # Keep only the top results\n",
    "    sim_scores = sim_scores[:top_n]\n",
    "    \n",
    "    # Return drug name, summarized description, and similarity score\n",
    "    recommendations = [\n",
    "        {\n",
    "            'drug_name': df['drug_name'].iloc[i],\n",
    "            'medical_condition_description': summarize_description(df['medical_condition_description'].iloc[i]),\n",
    "            'similarity': round(sim, 2)\n",
    "        }\n",
    "        for i, sim in sim_scores if sim > 0\n",
    "    ]\n",
    "    \n",
    "    return recommendations\n",
    "\n",
    "# 5. User search interface\n",
    "def search_interface(df, tfidf_matrix):\n",
    "    \"\"\"\n",
    "    User-friendly interface for searching drugs based on symptoms.\n",
    "    \"\"\"\n",
    "    print(\"=== Drug Recommendation System ===\")\n",
    "    print(\"Enter a symptom or phrase to search.\")\n",
    "    print(\"Example: 'headache', 'fever', 'skin rash'.\")\n",
    "    \n",
    "    while True:\n",
    "        # Prompt user for input\n",
    "        symptom_input = input(\"\\nEnter your symptom (or type 'exit' to quit): \")\n",
    "        if symptom_input.lower() == 'exit':\n",
    "            print(\"\\nThank you for using the system!\")\n",
    "            break\n",
    "        \n",
    "        if not symptom_input.strip():\n",
    "            print(\"\\nNo input provided. Please try again!\")\n",
    "            continue\n",
    "        \n",
    "        # Ask user for the number of recommendations\n",
    "        try:\n",
    "            top_n = int(input(\"Enter the number of recommendations to display (default: 5): \") or 5)\n",
    "        except ValueError:\n",
    "            print(\"\\nInvalid number. Using the default value: 5.\")\n",
    "            top_n = 5\n",
    "        \n",
    "        # Get drug recommendations\n",
    "        recommendations = get_drug_recommendations(symptom_input, df, tfidf_matrix, top_n=top_n)\n",
    "        \n",
    "        # Display results\n",
    "        if recommendations:\n",
    "            print(f\"\\nThe following drugs may help with the symptom '{symptom_input}':\")\n",
    "            for idx, rec in enumerate(recommendations, start=1):\n",
    "                print(f\"{idx}. Drug: {rec['drug_name']}\")\n",
    "                print(f\"   Symptom Description: {rec['medical_condition_description']}\")\n",
    "                print(f\"   Similarity Score: {rec['similarity']}\\n\")\n",
    "        else:\n",
    "            print(f\"\\nNo drugs found for the symptom '{symptom_input}'. Try a different keyword!\")\n",
    "\n",
    "# 6. Launch the search interface\n",
    "search_interface(df, tfidf_matrix)\n"
   ]
  },
  {
   "cell_type": "code",
   "execution_count": null,
   "id": "7fadd695-fc0a-4cd8-a370-a6b49581d167",
   "metadata": {},
   "outputs": [],
   "source": []
  }
 ],
 "metadata": {
  "kernelspec": {
   "display_name": "Python 3 (ipykernel)",
   "language": "python",
   "name": "python3"
  },
  "language_info": {
   "codemirror_mode": {
    "name": "ipython",
    "version": 3
   },
   "file_extension": ".py",
   "mimetype": "text/x-python",
   "name": "python",
   "nbconvert_exporter": "python",
   "pygments_lexer": "ipython3",
   "version": "3.12.4"
  }
 },
 "nbformat": 4,
 "nbformat_minor": 5
}
